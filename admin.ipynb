{
 "cells": [
  {
   "cell_type": "code",
   "execution_count": 1,
   "metadata": {
    "collapsed": false
   },
   "outputs": [
    {
     "name": "stdout",
     "output_type": "stream",
     "text": [
      "1-start-here.ipynb\t\t     README.md\r\n",
      "2-original-neural-net.ipynb\t     abalone_output\r\n",
      "3-tweaked-original-neural-net.ipynb  abalone_test.csv\r\n",
      "4-keras.ipynb\t\t\t     abalone_train.csv\r\n",
      "5-keras-full.ipynb\t\t     admin.ipynb\r\n",
      "6-distributed-keras.ipynb\t     trainer\r\n"
     ]
    }
   ],
   "source": [
    "!ls"
   ]
  },
  {
   "cell_type": "code",
   "execution_count": 2,
   "metadata": {
    "collapsed": false
   },
   "outputs": [
    {
     "name": "stdout",
     "output_type": "stream",
     "text": [
      "Copying file://1-start-here.ipynb [Content-Type=application/octet-stream]...\n",
      "Copying file://2-original-neural-net.ipynb [Content-Type=application/octet-stream]...\n",
      "Copying file://3-tweaked-original-neural-net.ipynb [Content-Type=application/octet-stream]...\n",
      "Copying file://4-keras.ipynb [Content-Type=application/octet-stream]...\n",
      "\\\n",
      "==> NOTE: You are performing a sequence of gsutil operations that may\n",
      "run significantly faster if you instead use gsutil -m -o ... Please\n",
      "see the -m section under \"gsutil help options\" for further information\n",
      "about when gsutil -m can be advantageous.\n",
      "\n",
      "Copying file://5-keras-full.ipynb [Content-Type=application/octet-stream]...\n",
      "Copying file://6-distributed-keras.ipynb [Content-Type=application/octet-stream]...\n",
      "Copying file://admin.ipynb [Content-Type=application/octet-stream]...\n",
      "| [7 files][122.4 KiB/122.4 KiB]                                                \n",
      "Operation completed over 7 objects/122.4 KiB.                                    \n"
     ]
    }
   ],
   "source": [
    "!gsutil cp *.ipynb gs://smiling-beaming-public-assets"
   ]
  }
 ],
 "metadata": {
  "kernelspec": {
   "display_name": "Python 2",
   "language": "python",
   "name": "python2"
  },
  "language_info": {
   "codemirror_mode": {
    "name": "ipython",
    "version": 2
   },
   "file_extension": ".py",
   "mimetype": "text/x-python",
   "name": "python",
   "nbconvert_exporter": "python",
   "pygments_lexer": "ipython2",
   "version": "2.7.9"
  }
 },
 "nbformat": 4,
 "nbformat_minor": 2
}
